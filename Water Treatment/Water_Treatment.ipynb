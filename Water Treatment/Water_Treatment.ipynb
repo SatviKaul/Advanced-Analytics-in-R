{
 "cells": [
  {
   "cell_type": "markdown",
   "metadata": {},
   "source": [
    "# Load Libraries"
   ]
  },
  {
   "cell_type": "code",
   "execution_count": 21,
   "metadata": {},
   "outputs": [],
   "source": [
    "library(data.table)"
   ]
  },
  {
   "cell_type": "code",
   "execution_count": 22,
   "metadata": {},
   "outputs": [],
   "source": [
    "library(ggplot2)\n",
    "library(dplyr)"
   ]
  },
  {
   "cell_type": "code",
   "execution_count": 23,
   "metadata": {},
   "outputs": [],
   "source": [
    "#install.packages(\"fpc\")\n",
    "library(fpc)"
   ]
  },
  {
   "cell_type": "markdown",
   "metadata": {},
   "source": [
    "# Load Data"
   ]
  },
  {
   "cell_type": "code",
   "execution_count": 24,
   "metadata": {},
   "outputs": [],
   "source": [
    "water_data <- read.table(\"water-treatment.data_.txt\", sep = \",\", header = F, na.strings = c(\"?\"))"
   ]
  },
  {
   "cell_type": "code",
   "execution_count": 25,
   "metadata": {},
   "outputs": [],
   "source": [
    "setDT(water_data)"
   ]
  },
  {
   "cell_type": "code",
   "execution_count": 26,
   "metadata": {},
   "outputs": [
    {
     "data": {
      "text/html": [
       "<table>\n",
       "<thead><tr><th scope=col>V1</th><th scope=col>V2</th><th scope=col>V3</th><th scope=col>V4</th><th scope=col>V5</th><th scope=col>V6</th><th scope=col>V7</th><th scope=col>V8</th><th scope=col>V9</th><th scope=col>V10</th><th scope=col>...</th><th scope=col>V30</th><th scope=col>V31</th><th scope=col>V32</th><th scope=col>V33</th><th scope=col>V34</th><th scope=col>V35</th><th scope=col>V36</th><th scope=col>V37</th><th scope=col>V38</th><th scope=col>V39</th></tr></thead>\n",
       "<tbody>\n",
       "\t<tr><td>D-1/3/90</td><td>44101   </td><td>1.5     </td><td>7.8     </td><td> NA     </td><td>407     </td><td>166     </td><td>66.3    </td><td>4.5     </td><td>2110    </td><td>...     </td><td>2000    </td><td>  NA    </td><td>58.8    </td><td>95.5    </td><td>  NA    </td><td>70.0    </td><td>  NA    </td><td>79.4    </td><td>87.3    </td><td> 99.6   </td></tr>\n",
       "\t<tr><td>D-2/3/90</td><td>39024   </td><td>3.0     </td><td>7.7     </td><td> NA     </td><td>443     </td><td>214     </td><td>69.2    </td><td>6.5     </td><td>2660    </td><td>...     </td><td>2590    </td><td>  NA    </td><td>60.7    </td><td>94.8    </td><td>  NA    </td><td>80.8    </td><td>  NA    </td><td>79.5    </td><td>92.1    </td><td>100.0   </td></tr>\n",
       "\t<tr><td>D-4/3/90</td><td>32229   </td><td>5.0     </td><td>7.6     </td><td> NA     </td><td>528     </td><td>186     </td><td>69.9    </td><td>3.4     </td><td>1666    </td><td>...     </td><td>1888    </td><td>  NA    </td><td>58.2    </td><td>95.6    </td><td>  NA    </td><td>52.9    </td><td>  NA    </td><td>75.8    </td><td>88.7    </td><td> 98.5   </td></tr>\n",
       "\t<tr><td>D-5/3/90</td><td>35023   </td><td>3.5     </td><td>7.9     </td><td>205     </td><td>588     </td><td>192     </td><td>65.6    </td><td>4.5     </td><td>2430    </td><td>...     </td><td>1840    </td><td>33.1    </td><td>64.2    </td><td>95.3    </td><td>87.3    </td><td>72.3    </td><td>90.2    </td><td>82.3    </td><td>89.6    </td><td>100.0   </td></tr>\n",
       "\t<tr><td>D-6/3/90</td><td>36924   </td><td>1.5     </td><td>8.0     </td><td>242     </td><td>496     </td><td>176     </td><td>64.8    </td><td>4.0     </td><td>2110    </td><td>...     </td><td>2120    </td><td>  NA    </td><td>62.7    </td><td>95.6    </td><td>  NA    </td><td>71.0    </td><td>92.1    </td><td>78.2    </td><td>87.5    </td><td> 99.5   </td></tr>\n",
       "\t<tr><td>D-7/3/90</td><td>38572   </td><td>3.0     </td><td>7.8     </td><td>202     </td><td>372     </td><td>186     </td><td>68.8    </td><td>4.5     </td><td>1644    </td><td>...     </td><td>1764    </td><td>  NA    </td><td>59.7    </td><td>96.5    </td><td>86.7    </td><td>78.3    </td><td>90.1    </td><td>73.1    </td><td>84.9    </td><td>100.0   </td></tr>\n",
       "</tbody>\n",
       "</table>\n"
      ],
      "text/latex": [
       "\\begin{tabular}{r|lllllllllllllllllllllllllllllllllllllll}\n",
       " V1 & V2 & V3 & V4 & V5 & V6 & V7 & V8 & V9 & V10 & ... & V30 & V31 & V32 & V33 & V34 & V35 & V36 & V37 & V38 & V39\\\\\n",
       "\\hline\n",
       "\t D-1/3/90 & 44101    & 1.5      & 7.8      &  NA      & 407      & 166      & 66.3     & 4.5      & 2110     & ...      & 2000     &   NA     & 58.8     & 95.5     &   NA     & 70.0     &   NA     & 79.4     & 87.3     &  99.6   \\\\\n",
       "\t D-2/3/90 & 39024    & 3.0      & 7.7      &  NA      & 443      & 214      & 69.2     & 6.5      & 2660     & ...      & 2590     &   NA     & 60.7     & 94.8     &   NA     & 80.8     &   NA     & 79.5     & 92.1     & 100.0   \\\\\n",
       "\t D-4/3/90 & 32229    & 5.0      & 7.6      &  NA      & 528      & 186      & 69.9     & 3.4      & 1666     & ...      & 1888     &   NA     & 58.2     & 95.6     &   NA     & 52.9     &   NA     & 75.8     & 88.7     &  98.5   \\\\\n",
       "\t D-5/3/90 & 35023    & 3.5      & 7.9      & 205      & 588      & 192      & 65.6     & 4.5      & 2430     & ...      & 1840     & 33.1     & 64.2     & 95.3     & 87.3     & 72.3     & 90.2     & 82.3     & 89.6     & 100.0   \\\\\n",
       "\t D-6/3/90 & 36924    & 1.5      & 8.0      & 242      & 496      & 176      & 64.8     & 4.0      & 2110     & ...      & 2120     &   NA     & 62.7     & 95.6     &   NA     & 71.0     & 92.1     & 78.2     & 87.5     &  99.5   \\\\\n",
       "\t D-7/3/90 & 38572    & 3.0      & 7.8      & 202      & 372      & 186      & 68.8     & 4.5      & 1644     & ...      & 1764     &   NA     & 59.7     & 96.5     & 86.7     & 78.3     & 90.1     & 73.1     & 84.9     & 100.0   \\\\\n",
       "\\end{tabular}\n"
      ],
      "text/markdown": [
       "\n",
       "| V1 | V2 | V3 | V4 | V5 | V6 | V7 | V8 | V9 | V10 | ... | V30 | V31 | V32 | V33 | V34 | V35 | V36 | V37 | V38 | V39 |\n",
       "|---|---|---|---|---|---|---|---|---|---|---|---|---|---|---|---|---|---|---|---|---|\n",
       "| D-1/3/90 | 44101    | 1.5      | 7.8      |  NA      | 407      | 166      | 66.3     | 4.5      | 2110     | ...      | 2000     |   NA     | 58.8     | 95.5     |   NA     | 70.0     |   NA     | 79.4     | 87.3     |  99.6    |\n",
       "| D-2/3/90 | 39024    | 3.0      | 7.7      |  NA      | 443      | 214      | 69.2     | 6.5      | 2660     | ...      | 2590     |   NA     | 60.7     | 94.8     |   NA     | 80.8     |   NA     | 79.5     | 92.1     | 100.0    |\n",
       "| D-4/3/90 | 32229    | 5.0      | 7.6      |  NA      | 528      | 186      | 69.9     | 3.4      | 1666     | ...      | 1888     |   NA     | 58.2     | 95.6     |   NA     | 52.9     |   NA     | 75.8     | 88.7     |  98.5    |\n",
       "| D-5/3/90 | 35023    | 3.5      | 7.9      | 205      | 588      | 192      | 65.6     | 4.5      | 2430     | ...      | 1840     | 33.1     | 64.2     | 95.3     | 87.3     | 72.3     | 90.2     | 82.3     | 89.6     | 100.0    |\n",
       "| D-6/3/90 | 36924    | 1.5      | 8.0      | 242      | 496      | 176      | 64.8     | 4.0      | 2110     | ...      | 2120     |   NA     | 62.7     | 95.6     |   NA     | 71.0     | 92.1     | 78.2     | 87.5     |  99.5    |\n",
       "| D-7/3/90 | 38572    | 3.0      | 7.8      | 202      | 372      | 186      | 68.8     | 4.5      | 1644     | ...      | 1764     |   NA     | 59.7     | 96.5     | 86.7     | 78.3     | 90.1     | 73.1     | 84.9     | 100.0    |\n",
       "\n"
      ],
      "text/plain": [
       "  V1       V2    V3  V4  V5  V6  V7  V8   V9  V10  ... V30  V31  V32  V33  V34 \n",
       "1 D-1/3/90 44101 1.5 7.8  NA 407 166 66.3 4.5 2110 ... 2000   NA 58.8 95.5   NA\n",
       "2 D-2/3/90 39024 3.0 7.7  NA 443 214 69.2 6.5 2660 ... 2590   NA 60.7 94.8   NA\n",
       "3 D-4/3/90 32229 5.0 7.6  NA 528 186 69.9 3.4 1666 ... 1888   NA 58.2 95.6   NA\n",
       "4 D-5/3/90 35023 3.5 7.9 205 588 192 65.6 4.5 2430 ... 1840 33.1 64.2 95.3 87.3\n",
       "5 D-6/3/90 36924 1.5 8.0 242 496 176 64.8 4.0 2110 ... 2120   NA 62.7 95.6   NA\n",
       "6 D-7/3/90 38572 3.0 7.8 202 372 186 68.8 4.5 1644 ... 1764   NA 59.7 96.5 86.7\n",
       "  V35  V36  V37  V38  V39  \n",
       "1 70.0   NA 79.4 87.3  99.6\n",
       "2 80.8   NA 79.5 92.1 100.0\n",
       "3 52.9   NA 75.8 88.7  98.5\n",
       "4 72.3 90.2 82.3 89.6 100.0\n",
       "5 71.0 92.1 78.2 87.5  99.5\n",
       "6 78.3 90.1 73.1 84.9 100.0"
      ]
     },
     "metadata": {},
     "output_type": "display_data"
    }
   ],
   "source": [
    "head(water_data)"
   ]
  },
  {
   "cell_type": "markdown",
   "metadata": {},
   "source": [
    "# Check for missing values"
   ]
  },
  {
   "cell_type": "code",
   "execution_count": 27,
   "metadata": {},
   "outputs": [
    {
     "data": {
      "text/html": [
       "<dl class=dl-horizontal>\n",
       "\t<dt>V1</dt>\n",
       "\t\t<dd>0</dd>\n",
       "\t<dt>V2</dt>\n",
       "\t\t<dd>18</dd>\n",
       "\t<dt>V3</dt>\n",
       "\t\t<dd>3</dd>\n",
       "\t<dt>V4</dt>\n",
       "\t\t<dd>0</dd>\n",
       "\t<dt>V5</dt>\n",
       "\t\t<dd>23</dd>\n",
       "\t<dt>V6</dt>\n",
       "\t\t<dd>6</dd>\n",
       "\t<dt>V7</dt>\n",
       "\t\t<dd>1</dd>\n",
       "\t<dt>V8</dt>\n",
       "\t\t<dd>11</dd>\n",
       "\t<dt>V9</dt>\n",
       "\t\t<dd>25</dd>\n",
       "\t<dt>V10</dt>\n",
       "\t\t<dd>0</dd>\n",
       "\t<dt>V11</dt>\n",
       "\t\t<dd>0</dd>\n",
       "\t<dt>V12</dt>\n",
       "\t\t<dd>40</dd>\n",
       "\t<dt>V13</dt>\n",
       "\t\t<dd>0</dd>\n",
       "\t<dt>V14</dt>\n",
       "\t\t<dd>11</dd>\n",
       "\t<dt>V15</dt>\n",
       "\t\t<dd>24</dd>\n",
       "\t<dt>V16</dt>\n",
       "\t\t<dd>0</dd>\n",
       "\t<dt>V17</dt>\n",
       "\t\t<dd>0</dd>\n",
       "\t<dt>V18</dt>\n",
       "\t\t<dd>28</dd>\n",
       "\t<dt>V19</dt>\n",
       "\t\t<dd>9</dd>\n",
       "\t<dt>V20</dt>\n",
       "\t\t<dd>2</dd>\n",
       "\t<dt>V21</dt>\n",
       "\t\t<dd>13</dd>\n",
       "\t<dt>V22</dt>\n",
       "\t\t<dd>25</dd>\n",
       "\t<dt>V23</dt>\n",
       "\t\t<dd>0</dd>\n",
       "\t<dt>V24</dt>\n",
       "\t\t<dd>1</dd>\n",
       "\t<dt>V25</dt>\n",
       "\t\t<dd>23</dd>\n",
       "\t<dt>V26</dt>\n",
       "\t\t<dd>18</dd>\n",
       "\t<dt>V27</dt>\n",
       "\t\t<dd>5</dd>\n",
       "\t<dt>V28</dt>\n",
       "\t\t<dd>17</dd>\n",
       "\t<dt>V29</dt>\n",
       "\t\t<dd>28</dd>\n",
       "\t<dt>V30</dt>\n",
       "\t\t<dd>1</dd>\n",
       "\t<dt>V31</dt>\n",
       "\t\t<dd>62</dd>\n",
       "\t<dt>V32</dt>\n",
       "\t\t<dd>4</dd>\n",
       "\t<dt>V33</dt>\n",
       "\t\t<dd>27</dd>\n",
       "\t<dt>V34</dt>\n",
       "\t\t<dd>40</dd>\n",
       "\t<dt>V35</dt>\n",
       "\t\t<dd>26</dd>\n",
       "\t<dt>V36</dt>\n",
       "\t\t<dd>36</dd>\n",
       "\t<dt>V37</dt>\n",
       "\t\t<dd>25</dd>\n",
       "\t<dt>V38</dt>\n",
       "\t\t<dd>8</dd>\n",
       "\t<dt>V39</dt>\n",
       "\t\t<dd>31</dd>\n",
       "</dl>\n"
      ],
      "text/latex": [
       "\\begin{description*}\n",
       "\\item[V1] 0\n",
       "\\item[V2] 18\n",
       "\\item[V3] 3\n",
       "\\item[V4] 0\n",
       "\\item[V5] 23\n",
       "\\item[V6] 6\n",
       "\\item[V7] 1\n",
       "\\item[V8] 11\n",
       "\\item[V9] 25\n",
       "\\item[V10] 0\n",
       "\\item[V11] 0\n",
       "\\item[V12] 40\n",
       "\\item[V13] 0\n",
       "\\item[V14] 11\n",
       "\\item[V15] 24\n",
       "\\item[V16] 0\n",
       "\\item[V17] 0\n",
       "\\item[V18] 28\n",
       "\\item[V19] 9\n",
       "\\item[V20] 2\n",
       "\\item[V21] 13\n",
       "\\item[V22] 25\n",
       "\\item[V23] 0\n",
       "\\item[V24] 1\n",
       "\\item[V25] 23\n",
       "\\item[V26] 18\n",
       "\\item[V27] 5\n",
       "\\item[V28] 17\n",
       "\\item[V29] 28\n",
       "\\item[V30] 1\n",
       "\\item[V31] 62\n",
       "\\item[V32] 4\n",
       "\\item[V33] 27\n",
       "\\item[V34] 40\n",
       "\\item[V35] 26\n",
       "\\item[V36] 36\n",
       "\\item[V37] 25\n",
       "\\item[V38] 8\n",
       "\\item[V39] 31\n",
       "\\end{description*}\n"
      ],
      "text/markdown": [
       "V1\n",
       ":   0V2\n",
       ":   18V3\n",
       ":   3V4\n",
       ":   0V5\n",
       ":   23V6\n",
       ":   6V7\n",
       ":   1V8\n",
       ":   11V9\n",
       ":   25V10\n",
       ":   0V11\n",
       ":   0V12\n",
       ":   40V13\n",
       ":   0V14\n",
       ":   11V15\n",
       ":   24V16\n",
       ":   0V17\n",
       ":   0V18\n",
       ":   28V19\n",
       ":   9V20\n",
       ":   2V21\n",
       ":   13V22\n",
       ":   25V23\n",
       ":   0V24\n",
       ":   1V25\n",
       ":   23V26\n",
       ":   18V27\n",
       ":   5V28\n",
       ":   17V29\n",
       ":   28V30\n",
       ":   1V31\n",
       ":   62V32\n",
       ":   4V33\n",
       ":   27V34\n",
       ":   40V35\n",
       ":   26V36\n",
       ":   36V37\n",
       ":   25V38\n",
       ":   8V39\n",
       ":   31\n",
       "\n"
      ],
      "text/plain": [
       " V1  V2  V3  V4  V5  V6  V7  V8  V9 V10 V11 V12 V13 V14 V15 V16 V17 V18 V19 V20 \n",
       "  0  18   3   0  23   6   1  11  25   0   0  40   0  11  24   0   0  28   9   2 \n",
       "V21 V22 V23 V24 V25 V26 V27 V28 V29 V30 V31 V32 V33 V34 V35 V36 V37 V38 V39 \n",
       " 13  25   0   1  23  18   5  17  28   1  62   4  27  40  26  36  25   8  31 "
      ]
     },
     "metadata": {},
     "output_type": "display_data"
    }
   ],
   "source": [
    "colSums(is.na(water_data))"
   ]
  },
  {
   "cell_type": "markdown",
   "metadata": {},
   "source": [
    "# Impute missing values"
   ]
  },
  {
   "cell_type": "code",
   "execution_count": 30,
   "metadata": {},
   "outputs": [
    {
     "name": "stderr",
     "output_type": "stream",
     "text": [
      "Warning message in set(x = water_data, i = which(is.na(water_data[[i]])), j = i, :\n",
      "\"Coerced double RHS to integer to match the type of the target column (column 5 named 'V5'). One or more RHS values contain fractions which have been lost; e.g. item 1 with value 182.500000 has been truncated to 182.\""
     ]
    }
   ],
   "source": [
    "for(i in colnames(water_data)[!(colnames(water_data) %in% c(\"V1\"))])\n",
    "set(x = water_data,i = which(is.na(water_data[[i]])), j = i, value = median(water_data[[i]], na.rm = T))"
   ]
  },
  {
   "cell_type": "code",
   "execution_count": 31,
   "metadata": {},
   "outputs": [],
   "source": [
    "scaled_wd <- scale(water_data[,-c(\"V1\"), with=F])"
   ]
  },
  {
   "cell_type": "markdown",
   "metadata": {},
   "source": [
    "# Scaling the variables"
   ]
  },
  {
   "cell_type": "code",
   "execution_count": 32,
   "metadata": {},
   "outputs": [],
   "source": [
    "d <- dist(scaled_wd, method = \"euclidean\")"
   ]
  },
  {
   "cell_type": "markdown",
   "metadata": {},
   "source": [
    "# Hierarchial Clustering"
   ]
  },
  {
   "cell_type": "code",
   "execution_count": 33,
   "metadata": {},
   "outputs": [
    {
     "name": "stderr",
     "output_type": "stream",
     "text": [
      "The \"ward\" method has been renamed to \"ward.D\"; note new \"ward.D2\"\n"
     ]
    }
   ],
   "source": [
    "h_clust <- hclust(d, method = \"ward\") #clustering"
   ]
  },
  {
   "cell_type": "markdown",
   "metadata": {},
   "source": [
    "# Dendogram"
   ]
  },
  {
   "cell_type": "code",
   "execution_count": 38,
   "metadata": {},
   "outputs": [
    {
     "data": {
      "image/png": "[encoded data removed]",
      "text/plain": [
       "Plot with title \"Cluster Dendrogram\""
      ]
     },
     "metadata": {},
     "output_type": "display_data"
    }
   ],
   "source": [
    "plot(h_clust,labels = water_data$V1)\n",
    "rect.hclust(h_clust,k=4)"
   ]
  },
  {
   "cell_type": "markdown",
   "metadata": {},
   "source": [
    "# Extract Clusters"
   ]
  },
  {
   "cell_type": "markdown",
   "metadata": {},
   "source": [
    "groups <- cutree(h_clust,k=4)\n",
    "groups"
   ]
  },
  {
   "cell_type": "markdown",
   "metadata": {},
   "source": [
    "# PCA"
   ]
  },
  {
   "cell_type": "code",
   "execution_count": 40,
   "metadata": {},
   "outputs": [],
   "source": [
    "pcmp <- princomp(scaled_wd)\n",
    "pred_pc <- predict(pcmp, newdata=scaled_wd)[,1:2]"
   ]
  },
  {
   "cell_type": "code",
   "execution_count": 41,
   "metadata": {},
   "outputs": [],
   "source": [
    "comp_dt <- cbind(as.data.table(pred_pc),cluster = as.factor(groups), Labels = water_data$V1)"
   ]
  },
  {
   "cell_type": "code",
   "execution_count": 42,
   "metadata": {},
   "outputs": [
    {
     "data": {
      "image/png": "[encoded data removed]",
      "text/plain": [
       "plot without title"
      ]
     },
     "metadata": {},
     "output_type": "display_data"
    }
   ],
   "source": [
    "ggplot(comp_dt,aes(Comp.1,Comp.2))+ geom_point(aes(color = cluster),size=3)"
   ]
  },
  {
   "cell_type": "markdown",
   "metadata": {},
   "source": [
    "# Kmeans"
   ]
  },
  {
   "cell_type": "code",
   "execution_count": 43,
   "metadata": {},
   "outputs": [],
   "source": [
    " kclust <- kmeans(scaled_wd,centers = 4,iter.max = 100)"
   ]
  },
  {
   "cell_type": "code",
   "execution_count": 44,
   "metadata": {},
   "outputs": [
    {
     "data": {
      "image/png": "[encoded data removed]",
      "text/plain": [
       "plot without title"
      ]
     },
     "metadata": {},
     "output_type": "display_data"
    }
   ],
   "source": [
    "ggplot(comp_dt,aes(Comp.1,Comp.2))+ geom_point(aes(color = as.factor(kclust$cluster)),size=3)"
   ]
  },
  {
   "cell_type": "code",
   "execution_count": 47,
   "metadata": {},
   "outputs": [],
   "source": [
    "tunek <- kmeansruns(scaled_wd,krange = 1:10,criterion = \"ch\") "
   ]
  },
  {
   "cell_type": "code",
   "execution_count": 48,
   "metadata": {},
   "outputs": [
    {
     "data": {
      "text/html": [
       "3"
      ],
      "text/latex": [
       "3"
      ],
      "text/markdown": [
       "3"
      ],
      "text/plain": [
       "[1] 3"
      ]
     },
     "metadata": {},
     "output_type": "display_data"
    }
   ],
   "source": [
    "tunek$bestk #3"
   ]
  },
  {
   "cell_type": "code",
   "execution_count": 49,
   "metadata": {},
   "outputs": [],
   "source": [
    "tunekw <- kmeansruns(scaled_wd,krange = 1:10,criterion = \"asw\")"
   ]
  },
  {
   "cell_type": "code",
   "execution_count": 50,
   "metadata": {},
   "outputs": [
    {
     "data": {
      "text/html": [
       "4"
      ],
      "text/latex": [
       "4"
      ],
      "text/markdown": [
       "4"
      ],
      "text/plain": [
       "[1] 4"
      ]
     },
     "metadata": {},
     "output_type": "display_data"
    }
   ],
   "source": [
    "tunekw$bestk"
   ]
  },
  {
   "cell_type": "code",
   "execution_count": null,
   "metadata": {},
   "outputs": [],
   "source": []
  }
 ],
 "metadata": {
  "kernelspec": {
   "display_name": "R",
   "language": "R",
   "name": "ir"
  },
  "language_info": {
   "codemirror_mode": "r",
   "file_extension": ".r",
   "mimetype": "text/x-r-source",
   "name": "R",
   "pygments_lexer": "r",
   "version": "3.6.0"
  }
 },
 "nbformat": 4,
 "nbformat_minor": 2
}
