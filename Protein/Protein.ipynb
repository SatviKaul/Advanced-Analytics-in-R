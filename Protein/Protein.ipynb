{
 "cells": [
  {
   "cell_type": "code",
   "execution_count": 2,
   "metadata": {},
   "outputs": [],
   "source": [
    "protein <- read.table(\"protein.txt\", sep = \"\\t\", header = T)"
   ]
  },
  {
   "cell_type": "code",
   "execution_count": 3,
   "metadata": {},
   "outputs": [
    {
     "data": {
      "text/plain": [
       "           Country      RedMeat         WhiteMeat           Eggs      \n",
       " Albania       : 1   Min.   : 4.400   Min.   : 1.400   Min.   :0.500  \n",
       " Austria       : 1   1st Qu.: 7.800   1st Qu.: 4.900   1st Qu.:2.700  \n",
       " Belgium       : 1   Median : 9.500   Median : 7.800   Median :2.900  \n",
       " Bulgaria      : 1   Mean   : 9.828   Mean   : 7.896   Mean   :2.936  \n",
       " Czechoslovakia: 1   3rd Qu.:10.600   3rd Qu.:10.800   3rd Qu.:3.700  \n",
       " Denmark       : 1   Max.   :18.000   Max.   :14.000   Max.   :4.700  \n",
       " (Other)       :19                                                    \n",
       "      Milk            Fish           Cereals          Starch     \n",
       " Min.   : 4.90   Min.   : 0.200   Min.   :18.60   Min.   :0.600  \n",
       " 1st Qu.:11.10   1st Qu.: 2.100   1st Qu.:24.30   1st Qu.:3.100  \n",
       " Median :17.60   Median : 3.400   Median :28.00   Median :4.700  \n",
       " Mean   :17.11   Mean   : 4.284   Mean   :32.25   Mean   :4.276  \n",
       " 3rd Qu.:23.30   3rd Qu.: 5.800   3rd Qu.:40.10   3rd Qu.:5.700  \n",
       " Max.   :33.70   Max.   :14.200   Max.   :56.70   Max.   :6.500  \n",
       "                                                                 \n",
       "      Nuts           Fr.Veg     \n",
       " Min.   :0.700   Min.   :1.400  \n",
       " 1st Qu.:1.500   1st Qu.:2.900  \n",
       " Median :2.400   Median :3.800  \n",
       " Mean   :3.072   Mean   :4.136  \n",
       " 3rd Qu.:4.700   3rd Qu.:4.900  \n",
       " Max.   :7.800   Max.   :7.900  \n",
       "                                "
      ]
     },
     "metadata": {},
     "output_type": "display_data"
    }
   ],
   "source": [
    "summary(protein)"
   ]
  },
  {
   "cell_type": "markdown",
   "metadata": {},
   "source": [
    "#   Use all the columns except the first (Country). "
   ]
  },
  {
   "cell_type": "code",
   "execution_count": 4,
   "metadata": {},
   "outputs": [],
   "source": [
    "var.to.use <- colnames(protein)[-1]"
   ]
  },
  {
   "cell_type": "markdown",
   "metadata": {},
   "source": [
    "### Scale the data columns to be zero mean and unit variance."
   ]
  },
  {
   "cell_type": "code",
   "execution_count": 6,
   "metadata": {},
   "outputs": [],
   "source": [
    "pmat <- scale(protein[,var.to.use])"
   ]
  },
  {
   "cell_type": "code",
   "execution_count": 7,
   "metadata": {},
   "outputs": [
    {
     "data": {
      "text/html": [
       "<table>\n",
       "<thead><tr><th scope=col>RedMeat</th><th scope=col>WhiteMeat</th><th scope=col>Eggs</th><th scope=col>Milk</th><th scope=col>Fish</th><th scope=col>Cereals</th><th scope=col>Starch</th><th scope=col>Nuts</th><th scope=col>Fr.Veg</th></tr></thead>\n",
       "<tbody>\n",
       "\t<tr><td> 0.08126490</td><td>-1.7584889 </td><td>-2.1796385 </td><td>-1.15573814</td><td>-1.20028213</td><td> 0.9159176 </td><td>-2.2495772 </td><td> 1.2227536 </td><td>-1.35040507</td></tr>\n",
       "\t<tr><td>-0.27725673</td><td> 1.6523731 </td><td> 1.2204544 </td><td> 0.39237676</td><td>-0.64187467</td><td>-0.3870690 </td><td>-0.4136872 </td><td>-0.8923886 </td><td> 0.09091397</td></tr>\n",
       "\t<tr><td> 1.09707621</td><td> 0.3800675 </td><td> 1.0415022 </td><td> 0.05460623</td><td> 0.06348211</td><td>-0.5146342 </td><td> 0.8714358 </td><td>-0.4895043 </td><td>-0.07539207</td></tr>\n",
       "\t<tr><td>-0.60590157</td><td>-0.5132535 </td><td>-1.1954011 </td><td>-1.24018077</td><td>-0.90638347</td><td> 2.2280161 </td><td>-1.9435955 </td><td> 0.3162641 </td><td> 0.03547862</td></tr>\n",
       "\t<tr><td>-0.03824231</td><td> 0.9485445 </td><td>-0.1216875 </td><td>-0.64908235</td><td>-0.67126454</td><td> 0.1869740 </td><td> 0.4430614 </td><td>-0.9931096 </td><td>-0.07539207</td></tr>\n",
       "\t<tr><td> 0.23064892</td><td> 0.7861225 </td><td> 0.6835976 </td><td> 1.11013912</td><td> 1.65053488</td><td>-0.9428885 </td><td> 0.3206688 </td><td>-1.1945517 </td><td>-0.96235764</td></tr>\n",
       "</tbody>\n",
       "</table>\n"
      ],
      "text/latex": [
       "\\begin{tabular}{lllllllll}\n",
       " RedMeat & WhiteMeat & Eggs & Milk & Fish & Cereals & Starch & Nuts & Fr.Veg\\\\\n",
       "\\hline\n",
       "\t  0.08126490 & -1.7584889  & -2.1796385  & -1.15573814 & -1.20028213 &  0.9159176  & -2.2495772  &  1.2227536  & -1.35040507\\\\\n",
       "\t -0.27725673 &  1.6523731  &  1.2204544  &  0.39237676 & -0.64187467 & -0.3870690  & -0.4136872  & -0.8923886  &  0.09091397\\\\\n",
       "\t  1.09707621 &  0.3800675  &  1.0415022  &  0.05460623 &  0.06348211 & -0.5146342  &  0.8714358  & -0.4895043  & -0.07539207\\\\\n",
       "\t -0.60590157 & -0.5132535  & -1.1954011  & -1.24018077 & -0.90638347 &  2.2280161  & -1.9435955  &  0.3162641  &  0.03547862\\\\\n",
       "\t -0.03824231 &  0.9485445  & -0.1216875  & -0.64908235 & -0.67126454 &  0.1869740  &  0.4430614  & -0.9931096  & -0.07539207\\\\\n",
       "\t  0.23064892 &  0.7861225  &  0.6835976  &  1.11013912 &  1.65053488 & -0.9428885  &  0.3206688  & -1.1945517  & -0.96235764\\\\\n",
       "\\end{tabular}\n"
      ],
      "text/markdown": [
       "\n",
       "| RedMeat | WhiteMeat | Eggs | Milk | Fish | Cereals | Starch | Nuts | Fr.Veg |\n",
       "|---|---|---|---|---|---|---|---|---|\n",
       "|  0.08126490 | -1.7584889  | -2.1796385  | -1.15573814 | -1.20028213 |  0.9159176  | -2.2495772  |  1.2227536  | -1.35040507 |\n",
       "| -0.27725673 |  1.6523731  |  1.2204544  |  0.39237676 | -0.64187467 | -0.3870690  | -0.4136872  | -0.8923886  |  0.09091397 |\n",
       "|  1.09707621 |  0.3800675  |  1.0415022  |  0.05460623 |  0.06348211 | -0.5146342  |  0.8714358  | -0.4895043  | -0.07539207 |\n",
       "| -0.60590157 | -0.5132535  | -1.1954011  | -1.24018077 | -0.90638347 |  2.2280161  | -1.9435955  |  0.3162641  |  0.03547862 |\n",
       "| -0.03824231 |  0.9485445  | -0.1216875  | -0.64908235 | -0.67126454 |  0.1869740  |  0.4430614  | -0.9931096  | -0.07539207 |\n",
       "|  0.23064892 |  0.7861225  |  0.6835976  |  1.11013912 |  1.65053488 | -0.9428885  |  0.3206688  | -1.1945517  | -0.96235764 |\n",
       "\n"
      ],
      "text/plain": [
       "     RedMeat     WhiteMeat  Eggs       Milk        Fish        Cereals   \n",
       "[1,]  0.08126490 -1.7584889 -2.1796385 -1.15573814 -1.20028213  0.9159176\n",
       "[2,] -0.27725673  1.6523731  1.2204544  0.39237676 -0.64187467 -0.3870690\n",
       "[3,]  1.09707621  0.3800675  1.0415022  0.05460623  0.06348211 -0.5146342\n",
       "[4,] -0.60590157 -0.5132535 -1.1954011 -1.24018077 -0.90638347  2.2280161\n",
       "[5,] -0.03824231  0.9485445 -0.1216875 -0.64908235 -0.67126454  0.1869740\n",
       "[6,]  0.23064892  0.7861225  0.6835976  1.11013912  1.65053488 -0.9428885\n",
       "     Starch     Nuts       Fr.Veg     \n",
       "[1,] -2.2495772  1.2227536 -1.35040507\n",
       "[2,] -0.4136872 -0.8923886  0.09091397\n",
       "[3,]  0.8714358 -0.4895043 -0.07539207\n",
       "[4,] -1.9435955  0.3162641  0.03547862\n",
       "[5,]  0.4430614 -0.9931096 -0.07539207\n",
       "[6,]  0.3206688 -1.1945517 -0.96235764"
      ]
     },
     "metadata": {},
     "output_type": "display_data"
    }
   ],
   "source": [
    "head(pmat)"
   ]
  },
  {
   "cell_type": "markdown",
   "metadata": {},
   "source": [
    "#### Store the centers and standard deviations of the original data,so you can \"unscale\" it later."
   ]
  },
  {
   "cell_type": "code",
   "execution_count": 8,
   "metadata": {},
   "outputs": [],
   "source": [
    "pcent <- attr(pmat, \"Scaled:center\")\n",
    "pscale <- attr(pmat, \"Scaled:scale\")"
   ]
  },
  {
   "cell_type": "markdown",
   "metadata": {},
   "source": [
    "# Hierarchial Clustering"
   ]
  },
  {
   "cell_type": "markdown",
   "metadata": {},
   "source": [
    "##### Distance matrix"
   ]
  },
  {
   "cell_type": "code",
   "execution_count": 9,
   "metadata": {},
   "outputs": [],
   "source": [
    "d <- dist(pmat, method = 'euclidean')"
   ]
  },
  {
   "cell_type": "code",
   "execution_count": 10,
   "metadata": {},
   "outputs": [
    {
     "name": "stderr",
     "output_type": "stream",
     "text": [
      "The \"ward\" method has been renamed to \"ward.D\"; note new \"ward.D2\"\n"
     ]
    }
   ],
   "source": [
    "pfit <- hclust(d, method = 'ward')"
   ]
  },
  {
   "cell_type": "markdown",
   "metadata": {},
   "source": [
    "##### Dendogram"
   ]
  },
  {
   "cell_type": "code",
   "execution_count": 13,
   "metadata": {},
   "outputs": [
    {
     "data": {
      "image/png": "[encoded data removed]",
      "text/plain": [
       "Plot with title \"Cluster Dendrogram\""
      ]
     },
     "metadata": {},
     "output_type": "display_data"
    }
   ],
   "source": [
    "plot(pfit, labels = protein$Country)\n",
    "rect.hclust(pfit, k = 5)"
   ]
  },
  {
   "cell_type": "code",
   "execution_count": 14,
   "metadata": {},
   "outputs": [],
   "source": [
    "print_clusters <- function(labels, k) {             \n",
    "  for(i in 1:k) {\n",
    "    print(paste(\"cluster\", i))\n",
    "    print(protein[labels==i,c(\"Country\",\"RedMeat\",\"Fish\",\"Fr.Veg\")])\n",
    "  }\n",
    "}"
   ]
  },
  {
   "cell_type": "markdown",
   "metadata": {},
   "source": [
    "##### Get cluster labels"
   ]
  },
  {
   "cell_type": "code",
   "execution_count": 15,
   "metadata": {},
   "outputs": [],
   "source": [
    "groups <- cutree(pfit, k = 5)"
   ]
  },
  {
   "cell_type": "code",
   "execution_count": 16,
   "metadata": {},
   "outputs": [
    {
     "name": "stdout",
     "output_type": "stream",
     "text": [
      "[1] \"cluster 1\"\n",
      "      Country RedMeat Fish Fr.Veg\n",
      "1     Albania    10.1  0.2    1.7\n",
      "4    Bulgaria     7.8  1.2    4.2\n",
      "18    Romania     6.2  1.0    2.8\n",
      "25 Yugoslavia     4.4  0.6    3.2\n",
      "[1] \"cluster 2\"\n",
      "       Country RedMeat Fish Fr.Veg\n",
      "2      Austria     8.9  2.1    4.3\n",
      "3      Belgium    13.5  4.5    4.0\n",
      "9       France    18.0  5.7    6.5\n",
      "12     Ireland    13.9  2.2    2.9\n",
      "14 Netherlands     9.5  2.5    3.7\n",
      "21 Switzerland    13.1  2.3    4.9\n",
      "22          UK    17.4  4.3    3.3\n",
      "24   W Germany    11.4  3.4    3.8\n",
      "[1] \"cluster 3\"\n",
      "          Country RedMeat Fish Fr.Veg\n",
      "5  Czechoslovakia     9.7  2.0    4.0\n",
      "7       E Germany     8.4  5.4    3.6\n",
      "11        Hungary     5.3  0.3    4.2\n",
      "16         Poland     6.9  3.0    6.6\n",
      "23           USSR     9.3  3.0    2.9\n",
      "[1] \"cluster 4\"\n",
      "   Country RedMeat Fish Fr.Veg\n",
      "6  Denmark    10.6  9.9    2.4\n",
      "8  Finland     9.5  5.8    1.4\n",
      "15  Norway     9.4  9.7    2.7\n",
      "20  Sweden     9.9  7.5    2.0\n",
      "[1] \"cluster 5\"\n",
      "    Country RedMeat Fish Fr.Veg\n",
      "10   Greece    10.2  5.9    6.5\n",
      "13    Italy     9.0  3.4    6.7\n",
      "17 Portugal     6.2 14.2    7.9\n",
      "19    Spain     7.1  7.0    7.2\n"
     ]
    }
   ],
   "source": [
    "print_clusters(groups, 5)"
   ]
  },
  {
   "cell_type": "markdown",
   "metadata": {},
   "source": [
    "# clusterboot()"
   ]
  },
  {
   "cell_type": "code",
   "execution_count": 17,
   "metadata": {},
   "outputs": [],
   "source": [
    "library(fpc)"
   ]
  },
  {
   "cell_type": "code",
   "execution_count": 18,
   "metadata": {},
   "outputs": [],
   "source": [
    "kbest.p <- 5"
   ]
  },
  {
   "cell_type": "code",
   "execution_count": 21,
   "metadata": {},
   "outputs": [
    {
     "name": "stderr",
     "output_type": "stream",
     "text": [
      "The \"ward\" method has been renamed to \"ward.D\"; note new \"ward.D2\"\n"
     ]
    },
    {
     "name": "stdout",
     "output_type": "stream",
     "text": [
      "boot 1 \n"
     ]
    },
    {
     "name": "stderr",
     "output_type": "stream",
     "text": [
      "The \"ward\" method has been renamed to \"ward.D\"; note new \"ward.D2\"\n"
     ]
    },
    {
     "name": "stdout",
     "output_type": "stream",
     "text": [
      "boot 2 \n"
     ]
    },
    {
     "name": "stderr",
     "output_type": "stream",
     "text": [
      "The \"ward\" method has been renamed to \"ward.D\"; note new \"ward.D2\"\n"
     ]
    },
    {
     "name": "stdout",
     "output_type": "stream",
     "text": [
      "boot 3 \n"
     ]
    },
    {
     "name": "stderr",
     "output_type": "stream",
     "text": [
      "The \"ward\" method has been renamed to \"ward.D\"; note new \"ward.D2\"\n"
     ]
    },
    {
     "name": "stdout",
     "output_type": "stream",
     "text": [
      "boot 4 \n"
     ]
    },
    {
     "name": "stderr",
     "output_type": "stream",
     "text": [
      "The \"ward\" method has been renamed to \"ward.D\"; note new \"ward.D2\"\n"
     ]
    },
    {
     "name": "stdout",
     "output_type": "stream",
     "text": [
      "boot 5 \n"
     ]
    },
    {
     "name": "stderr",
     "output_type": "stream",
     "text": [
      "The \"ward\" method has been renamed to \"ward.D\"; note new \"ward.D2\"\n"
     ]
    },
    {
     "name": "stdout",
     "output_type": "stream",
     "text": [
      "boot 6 \n"
     ]
    },
    {
     "name": "stderr",
     "output_type": "stream",
     "text": [
      "The \"ward\" method has been renamed to \"ward.D\"; note new \"ward.D2\"\n"
     ]
    },
    {
     "name": "stdout",
     "output_type": "stream",
     "text": [
      "boot 7 \n"
     ]
    },
    {
     "name": "stderr",
     "output_type": "stream",
     "text": [
      "The \"ward\" method has been renamed to \"ward.D\"; note new \"ward.D2\"\n"
     ]
    },
    {
     "name": "stdout",
     "output_type": "stream",
     "text": [
      "boot 8 \n"
     ]
    },
    {
     "name": "stderr",
     "output_type": "stream",
     "text": [
      "The \"ward\" method has been renamed to \"ward.D\"; note new \"ward.D2\"\n"
     ]
    },
    {
     "name": "stdout",
     "output_type": "stream",
     "text": [
      "boot 9 \n"
     ]
    },
    {
     "name": "stderr",
     "output_type": "stream",
     "text": [
      "The \"ward\" method has been renamed to \"ward.D\"; note new \"ward.D2\"\n"
     ]
    },
    {
     "name": "stdout",
     "output_type": "stream",
     "text": [
      "boot 10 \n"
     ]
    },
    {
     "name": "stderr",
     "output_type": "stream",
     "text": [
      "The \"ward\" method has been renamed to \"ward.D\"; note new \"ward.D2\"\n"
     ]
    },
    {
     "name": "stdout",
     "output_type": "stream",
     "text": [
      "boot 11 \n"
     ]
    },
    {
     "name": "stderr",
     "output_type": "stream",
     "text": [
      "The \"ward\" method has been renamed to \"ward.D\"; note new \"ward.D2\"\n"
     ]
    },
    {
     "name": "stdout",
     "output_type": "stream",
     "text": [
      "boot 12 \n"
     ]
    },
    {
     "name": "stderr",
     "output_type": "stream",
     "text": [
      "The \"ward\" method has been renamed to \"ward.D\"; note new \"ward.D2\"\n"
     ]
    },
    {
     "name": "stdout",
     "output_type": "stream",
     "text": [
      "boot 13 \n"
     ]
    },
    {
     "name": "stderr",
     "output_type": "stream",
     "text": [
      "The \"ward\" method has been renamed to \"ward.D\"; note new \"ward.D2\"\n"
     ]
    },
    {
     "name": "stdout",
     "output_type": "stream",
     "text": [
      "boot 14 \n"
     ]
    },
    {
     "name": "stderr",
     "output_type": "stream",
     "text": [
      "The \"ward\" method has been renamed to \"ward.D\"; note new \"ward.D2\"\n"
     ]
    },
    {
     "name": "stdout",
     "output_type": "stream",
     "text": [
      "boot 15 \n"
     ]
    },
    {
     "name": "stderr",
     "output_type": "stream",
     "text": [
      "The \"ward\" method has been renamed to \"ward.D\"; note new \"ward.D2\"\n"
     ]
    },
    {
     "name": "stdout",
     "output_type": "stream",
     "text": [
      "boot 16 \n"
     ]
    },
    {
     "name": "stderr",
     "output_type": "stream",
     "text": [
      "The \"ward\" method has been renamed to \"ward.D\"; note new \"ward.D2\"\n"
     ]
    },
    {
     "name": "stdout",
     "output_type": "stream",
     "text": [
      "boot 17 \n"
     ]
    },
    {
     "name": "stderr",
     "output_type": "stream",
     "text": [
      "The \"ward\" method has been renamed to \"ward.D\"; note new \"ward.D2\"\n"
     ]
    },
    {
     "name": "stdout",
     "output_type": "stream",
     "text": [
      "boot 18 \n"
     ]
    },
    {
     "name": "stderr",
     "output_type": "stream",
     "text": [
      "The \"ward\" method has been renamed to \"ward.D\"; note new \"ward.D2\"\n"
     ]
    },
    {
     "name": "stdout",
     "output_type": "stream",
     "text": [
      "boot 19 \n"
     ]
    },
    {
     "name": "stderr",
     "output_type": "stream",
     "text": [
      "The \"ward\" method has been renamed to \"ward.D\"; note new \"ward.D2\"\n"
     ]
    },
    {
     "name": "stdout",
     "output_type": "stream",
     "text": [
      "boot 20 \n"
     ]
    },
    {
     "name": "stderr",
     "output_type": "stream",
     "text": [
      "The \"ward\" method has been renamed to \"ward.D\"; note new \"ward.D2\"\n"
     ]
    },
    {
     "name": "stdout",
     "output_type": "stream",
     "text": [
      "boot 21 \n"
     ]
    },
    {
     "name": "stderr",
     "output_type": "stream",
     "text": [
      "The \"ward\" method has been renamed to \"ward.D\"; note new \"ward.D2\"\n"
     ]
    },
    {
     "name": "stdout",
     "output_type": "stream",
     "text": [
      "boot 22 \n"
     ]
    },
    {
     "name": "stderr",
     "output_type": "stream",
     "text": [
      "The \"ward\" method has been renamed to \"ward.D\"; note new \"ward.D2\"\n"
     ]
    },
    {
     "name": "stdout",
     "output_type": "stream",
     "text": [
      "boot 23 \n"
     ]
    },
    {
     "name": "stderr",
     "output_type": "stream",
     "text": [
      "The \"ward\" method has been renamed to \"ward.D\"; note new \"ward.D2\"\n"
     ]
    },
    {
     "name": "stdout",
     "output_type": "stream",
     "text": [
      "boot 24 \n"
     ]
    },
    {
     "name": "stderr",
     "output_type": "stream",
     "text": [
      "The \"ward\" method has been renamed to \"ward.D\"; note new \"ward.D2\"\n"
     ]
    },
    {
     "name": "stdout",
     "output_type": "stream",
     "text": [
      "boot 25 \n"
     ]
    },
    {
     "name": "stderr",
     "output_type": "stream",
     "text": [
      "The \"ward\" method has been renamed to \"ward.D\"; note new \"ward.D2\"\n"
     ]
    },
    {
     "name": "stdout",
     "output_type": "stream",
     "text": [
      "boot 26 \n"
     ]
    },
    {
     "name": "stderr",
     "output_type": "stream",
     "text": [
      "The \"ward\" method has been renamed to \"ward.D\"; note new \"ward.D2\"\n"
     ]
    },
    {
     "name": "stdout",
     "output_type": "stream",
     "text": [
      "boot 27 \n"
     ]
    },
    {
     "name": "stderr",
     "output_type": "stream",
     "text": [
      "The \"ward\" method has been renamed to \"ward.D\"; note new \"ward.D2\"\n"
     ]
    },
    {
     "name": "stdout",
     "output_type": "stream",
     "text": [
      "boot 28 \n"
     ]
    },
    {
     "name": "stderr",
     "output_type": "stream",
     "text": [
      "The \"ward\" method has been renamed to \"ward.D\"; note new \"ward.D2\"\n"
     ]
    },
    {
     "name": "stdout",
     "output_type": "stream",
     "text": [
      "boot 29 \n"
     ]
    },
    {
     "name": "stderr",
     "output_type": "stream",
     "text": [
      "The \"ward\" method has been renamed to \"ward.D\"; note new \"ward.D2\"\n"
     ]
    },
    {
     "name": "stdout",
     "output_type": "stream",
     "text": [
      "boot 30 \n"
     ]
    },
    {
     "name": "stderr",
     "output_type": "stream",
     "text": [
      "The \"ward\" method has been renamed to \"ward.D\"; note new \"ward.D2\"\n"
     ]
    },
    {
     "name": "stdout",
     "output_type": "stream",
     "text": [
      "boot 31 \n"
     ]
    },
    {
     "name": "stderr",
     "output_type": "stream",
     "text": [
      "The \"ward\" method has been renamed to \"ward.D\"; note new \"ward.D2\"\n"
     ]
    },
    {
     "name": "stdout",
     "output_type": "stream",
     "text": [
      "boot 32 \n"
     ]
    },
    {
     "name": "stderr",
     "output_type": "stream",
     "text": [
      "The \"ward\" method has been renamed to \"ward.D\"; note new \"ward.D2\"\n"
     ]
    },
    {
     "name": "stdout",
     "output_type": "stream",
     "text": [
      "boot 33 \n"
     ]
    },
    {
     "name": "stderr",
     "output_type": "stream",
     "text": [
      "The \"ward\" method has been renamed to \"ward.D\"; note new \"ward.D2\"\n"
     ]
    },
    {
     "name": "stdout",
     "output_type": "stream",
     "text": [
      "boot 34 \n"
     ]
    },
    {
     "name": "stderr",
     "output_type": "stream",
     "text": [
      "The \"ward\" method has been renamed to \"ward.D\"; note new \"ward.D2\"\n"
     ]
    },
    {
     "name": "stdout",
     "output_type": "stream",
     "text": [
      "boot 35 \n"
     ]
    },
    {
     "name": "stderr",
     "output_type": "stream",
     "text": [
      "The \"ward\" method has been renamed to \"ward.D\"; note new \"ward.D2\"\n"
     ]
    },
    {
     "name": "stdout",
     "output_type": "stream",
     "text": [
      "boot 36 \n"
     ]
    },
    {
     "name": "stderr",
     "output_type": "stream",
     "text": [
      "The \"ward\" method has been renamed to \"ward.D\"; note new \"ward.D2\"\n"
     ]
    },
    {
     "name": "stdout",
     "output_type": "stream",
     "text": [
      "boot 37 \n"
     ]
    },
    {
     "name": "stderr",
     "output_type": "stream",
     "text": [
      "The \"ward\" method has been renamed to \"ward.D\"; note new \"ward.D2\"\n"
     ]
    },
    {
     "name": "stdout",
     "output_type": "stream",
     "text": [
      "boot 38 \n"
     ]
    },
    {
     "name": "stderr",
     "output_type": "stream",
     "text": [
      "The \"ward\" method has been renamed to \"ward.D\"; note new \"ward.D2\"\n"
     ]
    },
    {
     "name": "stdout",
     "output_type": "stream",
     "text": [
      "boot 39 \n"
     ]
    },
    {
     "name": "stderr",
     "output_type": "stream",
     "text": [
      "The \"ward\" method has been renamed to \"ward.D\"; note new \"ward.D2\"\n"
     ]
    },
    {
     "name": "stdout",
     "output_type": "stream",
     "text": [
      "boot 40 \n"
     ]
    },
    {
     "name": "stderr",
     "output_type": "stream",
     "text": [
      "The \"ward\" method has been renamed to \"ward.D\"; note new \"ward.D2\"\n"
     ]
    },
    {
     "name": "stdout",
     "output_type": "stream",
     "text": [
      "boot 41 \n"
     ]
    },
    {
     "name": "stderr",
     "output_type": "stream",
     "text": [
      "The \"ward\" method has been renamed to \"ward.D\"; note new \"ward.D2\"\n"
     ]
    },
    {
     "name": "stdout",
     "output_type": "stream",
     "text": [
      "boot 42 \n"
     ]
    },
    {
     "name": "stderr",
     "output_type": "stream",
     "text": [
      "The \"ward\" method has been renamed to \"ward.D\"; note new \"ward.D2\"\n"
     ]
    },
    {
     "name": "stdout",
     "output_type": "stream",
     "text": [
      "boot 43 \n"
     ]
    },
    {
     "name": "stderr",
     "output_type": "stream",
     "text": [
      "The \"ward\" method has been renamed to \"ward.D\"; note new \"ward.D2\"\n"
     ]
    },
    {
     "name": "stdout",
     "output_type": "stream",
     "text": [
      "boot 44 \n"
     ]
    },
    {
     "name": "stderr",
     "output_type": "stream",
     "text": [
      "The \"ward\" method has been renamed to \"ward.D\"; note new \"ward.D2\"\n"
     ]
    },
    {
     "name": "stdout",
     "output_type": "stream",
     "text": [
      "boot 45 \n"
     ]
    },
    {
     "name": "stderr",
     "output_type": "stream",
     "text": [
      "The \"ward\" method has been renamed to \"ward.D\"; note new \"ward.D2\"\n"
     ]
    },
    {
     "name": "stdout",
     "output_type": "stream",
     "text": [
      "boot 46 \n"
     ]
    },
    {
     "name": "stderr",
     "output_type": "stream",
     "text": [
      "The \"ward\" method has been renamed to \"ward.D\"; note new \"ward.D2\"\n"
     ]
    },
    {
     "name": "stdout",
     "output_type": "stream",
     "text": [
      "boot 47 \n"
     ]
    },
    {
     "name": "stderr",
     "output_type": "stream",
     "text": [
      "The \"ward\" method has been renamed to \"ward.D\"; note new \"ward.D2\"\n"
     ]
    },
    {
     "name": "stdout",
     "output_type": "stream",
     "text": [
      "boot 48 \n"
     ]
    },
    {
     "name": "stderr",
     "output_type": "stream",
     "text": [
      "The \"ward\" method has been renamed to \"ward.D\"; note new \"ward.D2\"\n"
     ]
    },
    {
     "name": "stdout",
     "output_type": "stream",
     "text": [
      "boot 49 \n"
     ]
    },
    {
     "name": "stderr",
     "output_type": "stream",
     "text": [
      "The \"ward\" method has been renamed to \"ward.D\"; note new \"ward.D2\"\n"
     ]
    },
    {
     "name": "stdout",
     "output_type": "stream",
     "text": [
      "boot 50 \n"
     ]
    },
    {
     "name": "stderr",
     "output_type": "stream",
     "text": [
      "The \"ward\" method has been renamed to \"ward.D\"; note new \"ward.D2\"\n"
     ]
    },
    {
     "name": "stdout",
     "output_type": "stream",
     "text": [
      "boot 51 \n"
     ]
    },
    {
     "name": "stderr",
     "output_type": "stream",
     "text": [
      "The \"ward\" method has been renamed to \"ward.D\"; note new \"ward.D2\"\n"
     ]
    },
    {
     "name": "stdout",
     "output_type": "stream",
     "text": [
      "boot 52 \n"
     ]
    },
    {
     "name": "stderr",
     "output_type": "stream",
     "text": [
      "The \"ward\" method has been renamed to \"ward.D\"; note new \"ward.D2\"\n"
     ]
    },
    {
     "name": "stdout",
     "output_type": "stream",
     "text": [
      "boot 53 \n"
     ]
    },
    {
     "name": "stderr",
     "output_type": "stream",
     "text": [
      "The \"ward\" method has been renamed to \"ward.D\"; note new \"ward.D2\"\n"
     ]
    },
    {
     "name": "stdout",
     "output_type": "stream",
     "text": [
      "boot 54 \n"
     ]
    },
    {
     "name": "stderr",
     "output_type": "stream",
     "text": [
      "The \"ward\" method has been renamed to \"ward.D\"; note new \"ward.D2\"\n"
     ]
    },
    {
     "name": "stdout",
     "output_type": "stream",
     "text": [
      "boot 55 \n"
     ]
    },
    {
     "name": "stderr",
     "output_type": "stream",
     "text": [
      "The \"ward\" method has been renamed to \"ward.D\"; note new \"ward.D2\"\n"
     ]
    },
    {
     "name": "stdout",
     "output_type": "stream",
     "text": [
      "boot 56 \n"
     ]
    },
    {
     "name": "stderr",
     "output_type": "stream",
     "text": [
      "The \"ward\" method has been renamed to \"ward.D\"; note new \"ward.D2\"\n"
     ]
    },
    {
     "name": "stdout",
     "output_type": "stream",
     "text": [
      "boot 57 \n"
     ]
    },
    {
     "name": "stderr",
     "output_type": "stream",
     "text": [
      "The \"ward\" method has been renamed to \"ward.D\"; note new \"ward.D2\"\n"
     ]
    },
    {
     "name": "stdout",
     "output_type": "stream",
     "text": [
      "boot 58 \n"
     ]
    },
    {
     "name": "stderr",
     "output_type": "stream",
     "text": [
      "The \"ward\" method has been renamed to \"ward.D\"; note new \"ward.D2\"\n"
     ]
    },
    {
     "name": "stdout",
     "output_type": "stream",
     "text": [
      "boot 59 \n"
     ]
    },
    {
     "name": "stderr",
     "output_type": "stream",
     "text": [
      "The \"ward\" method has been renamed to \"ward.D\"; note new \"ward.D2\"\n"
     ]
    },
    {
     "name": "stdout",
     "output_type": "stream",
     "text": [
      "boot 60 \n"
     ]
    },
    {
     "name": "stderr",
     "output_type": "stream",
     "text": [
      "The \"ward\" method has been renamed to \"ward.D\"; note new \"ward.D2\"\n"
     ]
    },
    {
     "name": "stdout",
     "output_type": "stream",
     "text": [
      "boot 61 \n"
     ]
    },
    {
     "name": "stderr",
     "output_type": "stream",
     "text": [
      "The \"ward\" method has been renamed to \"ward.D\"; note new \"ward.D2\"\n"
     ]
    },
    {
     "name": "stdout",
     "output_type": "stream",
     "text": [
      "boot 62 \n"
     ]
    },
    {
     "name": "stderr",
     "output_type": "stream",
     "text": [
      "The \"ward\" method has been renamed to \"ward.D\"; note new \"ward.D2\"\n"
     ]
    },
    {
     "name": "stdout",
     "output_type": "stream",
     "text": [
      "boot 63 \n"
     ]
    },
    {
     "name": "stderr",
     "output_type": "stream",
     "text": [
      "The \"ward\" method has been renamed to \"ward.D\"; note new \"ward.D2\"\n"
     ]
    },
    {
     "name": "stdout",
     "output_type": "stream",
     "text": [
      "boot 64 \n"
     ]
    },
    {
     "name": "stderr",
     "output_type": "stream",
     "text": [
      "The \"ward\" method has been renamed to \"ward.D\"; note new \"ward.D2\"\n"
     ]
    },
    {
     "name": "stdout",
     "output_type": "stream",
     "text": [
      "boot 65 \n"
     ]
    },
    {
     "name": "stderr",
     "output_type": "stream",
     "text": [
      "The \"ward\" method has been renamed to \"ward.D\"; note new \"ward.D2\"\n"
     ]
    },
    {
     "name": "stdout",
     "output_type": "stream",
     "text": [
      "boot 66 \n"
     ]
    },
    {
     "name": "stderr",
     "output_type": "stream",
     "text": [
      "The \"ward\" method has been renamed to \"ward.D\"; note new \"ward.D2\"\n"
     ]
    },
    {
     "name": "stdout",
     "output_type": "stream",
     "text": [
      "boot 67 \n"
     ]
    },
    {
     "name": "stderr",
     "output_type": "stream",
     "text": [
      "The \"ward\" method has been renamed to \"ward.D\"; note new \"ward.D2\"\n"
     ]
    },
    {
     "name": "stdout",
     "output_type": "stream",
     "text": [
      "boot 68 \n"
     ]
    },
    {
     "name": "stderr",
     "output_type": "stream",
     "text": [
      "The \"ward\" method has been renamed to \"ward.D\"; note new \"ward.D2\"\n"
     ]
    },
    {
     "name": "stdout",
     "output_type": "stream",
     "text": [
      "boot 69 \n"
     ]
    },
    {
     "name": "stderr",
     "output_type": "stream",
     "text": [
      "The \"ward\" method has been renamed to \"ward.D\"; note new \"ward.D2\"\n"
     ]
    },
    {
     "name": "stdout",
     "output_type": "stream",
     "text": [
      "boot 70 \n"
     ]
    },
    {
     "name": "stderr",
     "output_type": "stream",
     "text": [
      "The \"ward\" method has been renamed to \"ward.D\"; note new \"ward.D2\"\n"
     ]
    },
    {
     "name": "stdout",
     "output_type": "stream",
     "text": [
      "boot 71 \n"
     ]
    },
    {
     "name": "stderr",
     "output_type": "stream",
     "text": [
      "The \"ward\" method has been renamed to \"ward.D\"; note new \"ward.D2\"\n"
     ]
    },
    {
     "name": "stdout",
     "output_type": "stream",
     "text": [
      "boot 72 \n"
     ]
    },
    {
     "name": "stderr",
     "output_type": "stream",
     "text": [
      "The \"ward\" method has been renamed to \"ward.D\"; note new \"ward.D2\"\n"
     ]
    },
    {
     "name": "stdout",
     "output_type": "stream",
     "text": [
      "boot 73 \n"
     ]
    },
    {
     "name": "stderr",
     "output_type": "stream",
     "text": [
      "The \"ward\" method has been renamed to \"ward.D\"; note new \"ward.D2\"\n"
     ]
    },
    {
     "name": "stdout",
     "output_type": "stream",
     "text": [
      "boot 74 \n"
     ]
    },
    {
     "name": "stderr",
     "output_type": "stream",
     "text": [
      "The \"ward\" method has been renamed to \"ward.D\"; note new \"ward.D2\"\n"
     ]
    },
    {
     "name": "stdout",
     "output_type": "stream",
     "text": [
      "boot 75 \n"
     ]
    },
    {
     "name": "stderr",
     "output_type": "stream",
     "text": [
      "The \"ward\" method has been renamed to \"ward.D\"; note new \"ward.D2\"\n"
     ]
    },
    {
     "name": "stdout",
     "output_type": "stream",
     "text": [
      "boot 76 \n"
     ]
    },
    {
     "name": "stderr",
     "output_type": "stream",
     "text": [
      "The \"ward\" method has been renamed to \"ward.D\"; note new \"ward.D2\"\n"
     ]
    },
    {
     "name": "stdout",
     "output_type": "stream",
     "text": [
      "boot 77 \n"
     ]
    },
    {
     "name": "stderr",
     "output_type": "stream",
     "text": [
      "The \"ward\" method has been renamed to \"ward.D\"; note new \"ward.D2\"\n"
     ]
    },
    {
     "name": "stdout",
     "output_type": "stream",
     "text": [
      "boot 78 \n"
     ]
    },
    {
     "name": "stderr",
     "output_type": "stream",
     "text": [
      "The \"ward\" method has been renamed to \"ward.D\"; note new \"ward.D2\"\n"
     ]
    },
    {
     "name": "stdout",
     "output_type": "stream",
     "text": [
      "boot 79 \n"
     ]
    },
    {
     "name": "stderr",
     "output_type": "stream",
     "text": [
      "The \"ward\" method has been renamed to \"ward.D\"; note new \"ward.D2\"\n"
     ]
    },
    {
     "name": "stdout",
     "output_type": "stream",
     "text": [
      "boot 80 \n"
     ]
    },
    {
     "name": "stderr",
     "output_type": "stream",
     "text": [
      "The \"ward\" method has been renamed to \"ward.D\"; note new \"ward.D2\"\n"
     ]
    },
    {
     "name": "stdout",
     "output_type": "stream",
     "text": [
      "boot 81 \n"
     ]
    },
    {
     "name": "stderr",
     "output_type": "stream",
     "text": [
      "The \"ward\" method has been renamed to \"ward.D\"; note new \"ward.D2\"\n"
     ]
    },
    {
     "name": "stdout",
     "output_type": "stream",
     "text": [
      "boot 82 \n"
     ]
    },
    {
     "name": "stderr",
     "output_type": "stream",
     "text": [
      "The \"ward\" method has been renamed to \"ward.D\"; note new \"ward.D2\"\n"
     ]
    },
    {
     "name": "stdout",
     "output_type": "stream",
     "text": [
      "boot 83 \n"
     ]
    },
    {
     "name": "stderr",
     "output_type": "stream",
     "text": [
      "The \"ward\" method has been renamed to \"ward.D\"; note new \"ward.D2\"\n"
     ]
    },
    {
     "name": "stdout",
     "output_type": "stream",
     "text": [
      "boot 84 \n"
     ]
    },
    {
     "name": "stderr",
     "output_type": "stream",
     "text": [
      "The \"ward\" method has been renamed to \"ward.D\"; note new \"ward.D2\"\n"
     ]
    },
    {
     "name": "stdout",
     "output_type": "stream",
     "text": [
      "boot 85 \n"
     ]
    },
    {
     "name": "stderr",
     "output_type": "stream",
     "text": [
      "The \"ward\" method has been renamed to \"ward.D\"; note new \"ward.D2\"\n"
     ]
    },
    {
     "name": "stdout",
     "output_type": "stream",
     "text": [
      "boot 86 \n"
     ]
    },
    {
     "name": "stderr",
     "output_type": "stream",
     "text": [
      "The \"ward\" method has been renamed to \"ward.D\"; note new \"ward.D2\"\n"
     ]
    },
    {
     "name": "stdout",
     "output_type": "stream",
     "text": [
      "boot 87 \n"
     ]
    },
    {
     "name": "stderr",
     "output_type": "stream",
     "text": [
      "The \"ward\" method has been renamed to \"ward.D\"; note new \"ward.D2\"\n"
     ]
    },
    {
     "name": "stdout",
     "output_type": "stream",
     "text": [
      "boot 88 \n"
     ]
    },
    {
     "name": "stderr",
     "output_type": "stream",
     "text": [
      "The \"ward\" method has been renamed to \"ward.D\"; note new \"ward.D2\"\n"
     ]
    },
    {
     "name": "stdout",
     "output_type": "stream",
     "text": [
      "boot 89 \n"
     ]
    },
    {
     "name": "stderr",
     "output_type": "stream",
     "text": [
      "The \"ward\" method has been renamed to \"ward.D\"; note new \"ward.D2\"\n"
     ]
    },
    {
     "name": "stdout",
     "output_type": "stream",
     "text": [
      "boot 90 \n"
     ]
    },
    {
     "name": "stderr",
     "output_type": "stream",
     "text": [
      "The \"ward\" method has been renamed to \"ward.D\"; note new \"ward.D2\"\n"
     ]
    },
    {
     "name": "stdout",
     "output_type": "stream",
     "text": [
      "boot 91 \n"
     ]
    },
    {
     "name": "stderr",
     "output_type": "stream",
     "text": [
      "The \"ward\" method has been renamed to \"ward.D\"; note new \"ward.D2\"\n"
     ]
    },
    {
     "name": "stdout",
     "output_type": "stream",
     "text": [
      "boot 92 \n"
     ]
    },
    {
     "name": "stderr",
     "output_type": "stream",
     "text": [
      "The \"ward\" method has been renamed to \"ward.D\"; note new \"ward.D2\"\n"
     ]
    },
    {
     "name": "stdout",
     "output_type": "stream",
     "text": [
      "boot 93 \n"
     ]
    },
    {
     "name": "stderr",
     "output_type": "stream",
     "text": [
      "The \"ward\" method has been renamed to \"ward.D\"; note new \"ward.D2\"\n"
     ]
    },
    {
     "name": "stdout",
     "output_type": "stream",
     "text": [
      "boot 94 \n"
     ]
    },
    {
     "name": "stderr",
     "output_type": "stream",
     "text": [
      "The \"ward\" method has been renamed to \"ward.D\"; note new \"ward.D2\"\n"
     ]
    },
    {
     "name": "stdout",
     "output_type": "stream",
     "text": [
      "boot 95 \n"
     ]
    },
    {
     "name": "stderr",
     "output_type": "stream",
     "text": [
      "The \"ward\" method has been renamed to \"ward.D\"; note new \"ward.D2\"\n"
     ]
    },
    {
     "name": "stdout",
     "output_type": "stream",
     "text": [
      "boot 96 \n"
     ]
    },
    {
     "name": "stderr",
     "output_type": "stream",
     "text": [
      "The \"ward\" method has been renamed to \"ward.D\"; note new \"ward.D2\"\n"
     ]
    },
    {
     "name": "stdout",
     "output_type": "stream",
     "text": [
      "boot 97 \n"
     ]
    },
    {
     "name": "stderr",
     "output_type": "stream",
     "text": [
      "The \"ward\" method has been renamed to \"ward.D\"; note new \"ward.D2\"\n"
     ]
    },
    {
     "name": "stdout",
     "output_type": "stream",
     "text": [
      "boot 98 \n"
     ]
    },
    {
     "name": "stderr",
     "output_type": "stream",
     "text": [
      "The \"ward\" method has been renamed to \"ward.D\"; note new \"ward.D2\"\n"
     ]
    },
    {
     "name": "stdout",
     "output_type": "stream",
     "text": [
      "boot 99 \n"
     ]
    },
    {
     "name": "stderr",
     "output_type": "stream",
     "text": [
      "The \"ward\" method has been renamed to \"ward.D\"; note new \"ward.D2\"\n"
     ]
    },
    {
     "name": "stdout",
     "output_type": "stream",
     "text": [
      "boot 100 \n"
     ]
    },
    {
     "name": "stderr",
     "output_type": "stream",
     "text": [
      "The \"ward\" method has been renamed to \"ward.D\"; note new \"ward.D2\"\n"
     ]
    }
   ],
   "source": [
    "cboot.hclust <- clusterboot(pmat, clustermethod = hclustCBI, method = 'ward', k = kbest.p)"
   ]
  },
  {
   "cell_type": "code",
   "execution_count": 22,
   "metadata": {},
   "outputs": [],
   "source": [
    "groups <- cboot.hclust$result$partition"
   ]
  },
  {
   "cell_type": "code",
   "execution_count": 23,
   "metadata": {},
   "outputs": [
    {
     "name": "stdout",
     "output_type": "stream",
     "text": [
      "[1] \"cluster 1\"\n",
      "      Country RedMeat Fish Fr.Veg\n",
      "1     Albania    10.1  0.2    1.7\n",
      "4    Bulgaria     7.8  1.2    4.2\n",
      "18    Romania     6.2  1.0    2.8\n",
      "25 Yugoslavia     4.4  0.6    3.2\n",
      "[1] \"cluster 2\"\n",
      "       Country RedMeat Fish Fr.Veg\n",
      "2      Austria     8.9  2.1    4.3\n",
      "3      Belgium    13.5  4.5    4.0\n",
      "9       France    18.0  5.7    6.5\n",
      "12     Ireland    13.9  2.2    2.9\n",
      "14 Netherlands     9.5  2.5    3.7\n",
      "21 Switzerland    13.1  2.3    4.9\n",
      "22          UK    17.4  4.3    3.3\n",
      "24   W Germany    11.4  3.4    3.8\n",
      "[1] \"cluster 3\"\n",
      "          Country RedMeat Fish Fr.Veg\n",
      "5  Czechoslovakia     9.7  2.0    4.0\n",
      "7       E Germany     8.4  5.4    3.6\n",
      "11        Hungary     5.3  0.3    4.2\n",
      "16         Poland     6.9  3.0    6.6\n",
      "23           USSR     9.3  3.0    2.9\n",
      "[1] \"cluster 4\"\n",
      "   Country RedMeat Fish Fr.Veg\n",
      "6  Denmark    10.6  9.9    2.4\n",
      "8  Finland     9.5  5.8    1.4\n",
      "15  Norway     9.4  9.7    2.7\n",
      "20  Sweden     9.9  7.5    2.0\n",
      "[1] \"cluster 5\"\n",
      "    Country RedMeat Fish Fr.Veg\n",
      "10   Greece    10.2  5.9    6.5\n",
      "13    Italy     9.0  3.4    6.7\n",
      "17 Portugal     6.2 14.2    7.9\n",
      "19    Spain     7.1  7.0    7.2\n"
     ]
    }
   ],
   "source": [
    "print_clusters(groups, kbest.p)"
   ]
  },
  {
   "cell_type": "code",
   "execution_count": 24,
   "metadata": {},
   "outputs": [
    {
     "data": {
      "text/html": [
       "<ol class=list-inline>\n",
       "\t<li>0.8135</li>\n",
       "\t<li>0.797269841269841</li>\n",
       "\t<li>0.679428571428571</li>\n",
       "\t<li>0.894857142857143</li>\n",
       "\t<li>0.819</li>\n",
       "</ol>\n"
      ],
      "text/latex": [
       "\\begin{enumerate*}\n",
       "\\item 0.8135\n",
       "\\item 0.797269841269841\n",
       "\\item 0.679428571428571\n",
       "\\item 0.894857142857143\n",
       "\\item 0.819\n",
       "\\end{enumerate*}\n"
      ],
      "text/markdown": [
       "1. 0.8135\n",
       "2. 0.797269841269841\n",
       "3. 0.679428571428571\n",
       "4. 0.894857142857143\n",
       "5. 0.819\n",
       "\n",
       "\n"
      ],
      "text/plain": [
       "[1] 0.8135000 0.7972698 0.6794286 0.8948571 0.8190000"
      ]
     },
     "metadata": {},
     "output_type": "display_data"
    }
   ],
   "source": [
    "cboot.hclust$bootmean\n",
    "# The vector of cluster stabilities. \n",
    "# Values close to 1 indicate stable clusters"
   ]
  },
  {
   "cell_type": "code",
   "execution_count": 25,
   "metadata": {},
   "outputs": [
    {
     "data": {
      "text/html": [
       "<ol class=list-inline>\n",
       "\t<li>20</li>\n",
       "\t<li>18</li>\n",
       "\t<li>35</li>\n",
       "\t<li>13</li>\n",
       "\t<li>24</li>\n",
       "</ol>\n"
      ],
      "text/latex": [
       "\\begin{enumerate*}\n",
       "\\item 20\n",
       "\\item 18\n",
       "\\item 35\n",
       "\\item 13\n",
       "\\item 24\n",
       "\\end{enumerate*}\n"
      ],
      "text/markdown": [
       "1. 20\n",
       "2. 18\n",
       "3. 35\n",
       "4. 13\n",
       "5. 24\n",
       "\n",
       "\n"
      ],
      "text/plain": [
       "[1] 20 18 35 13 24"
      ]
     },
     "metadata": {},
     "output_type": "display_data"
    }
   ],
   "source": [
    "cboot.hclust$bootbrd\n",
    "\n",
    "# The count of how many times each cluster was \n",
    "# dissolved. By default clusterboot() runs 100 \n",
    "# bootstrap iterations. \n",
    "# Clusters that are dissolved often are unstable. "
   ]
  },
  {
   "cell_type": "code",
   "execution_count": null,
   "metadata": {},
   "outputs": [],
   "source": []
  }
 ],
 "metadata": {
  "kernelspec": {
   "display_name": "R",
   "language": "R",
   "name": "ir"
  },
  "language_info": {
   "codemirror_mode": "r",
   "file_extension": ".r",
   "mimetype": "text/x-r-source",
   "name": "R",
   "pygments_lexer": "r",
   "version": "3.6.0"
  }
 },
 "nbformat": 4,
 "nbformat_minor": 2
}
